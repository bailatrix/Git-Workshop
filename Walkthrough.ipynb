{
 "cells": [
  {
   "cell_type": "markdown",
   "metadata": {},
   "source": [
    "# Git with Linux\n",
    "### Configure your Github account on your terminal"
   ]
  },
  {
   "cell_type": "raw",
   "metadata": {},
   "source": [
    "$ git config --global user.name [your_username]\n",
    "$ git config --global user.email [your_email]"
   ]
  },
  {
   "cell_type": "markdown",
   "metadata": {},
   "source": [
    "### Create a new directory and initialize with git ###"
   ]
  },
  {
   "cell_type": "raw",
   "metadata": {},
   "source": [
    "$ mkdir inClass\n",
    "$ cd inClass\n",
    "$ git init"
   ]
  },
  {
   "cell_type": "markdown",
   "metadata": {},
   "source": [
    "### Make a new file in your new directory\n",
    "You can make any kind of file this way, even a .py script"
   ]
  },
  {
   "cell_type": "raw",
   "metadata": {},
   "source": [
    "$ touch hello.py"
   ]
  },
  {
   "cell_type": "markdown",
   "metadata": {},
   "source": [
    "### Confirm contents of your directory and use vim to edit the file"
   ]
  },
  {
   "cell_type": "raw",
   "metadata": {},
   "source": [
    "$ ls\n",
    "$ vim hello.py"
   ]
  },
  {
   "cell_type": "code",
   "execution_count": null,
   "metadata": {},
   "outputs": [],
   "source": []
  }
 ],
 "metadata": {
  "kernelspec": {
   "display_name": "Python 3",
   "language": "python",
   "name": "python3"
  },
  "language_info": {
   "codemirror_mode": {
    "name": "ipython",
    "version": 3
   },
   "file_extension": ".py",
   "mimetype": "text/x-python",
   "name": "python",
   "nbconvert_exporter": "python",
   "pygments_lexer": "ipython3",
   "version": "3.7.0"
  }
 },
 "nbformat": 4,
 "nbformat_minor": 2
}
